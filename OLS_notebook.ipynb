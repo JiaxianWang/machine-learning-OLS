{
 "cells": [
  {
   "cell_type": "code",
   "execution_count": null,
   "metadata": {
    "scrolled": true
   },
   "outputs": [],
   "source": [
    "# importing necessary libraries\n",
    "import matplotlib.pyplot as plt\n",
    "import numpy as np"
   ]
  },
  {
   "cell_type": "code",
   "execution_count": null,
   "metadata": {},
   "outputs": [],
   "source": [
    "# Solves the Least Squares problem for given X, Y. \n",
    "# alpha is the regularization coefficient\n",
    "# Output is the estimated y for both X and X_all\n",
    "def solve_ols(X_train, Y_train, X_test, alpha):\n",
    "    W = np.dot(np.linalg.pinv(np.dot(X_train.T, X_train) + alpha*np.identity(np.shape(X_train)[1])), np.dot(X_train.T, Y_train))\n",
    "    print (\"Optimal W is \", W.flatten())\n",
    "    return np.dot(X_train, W), np.dot(X_test, W)"
   ]
  },
  {
   "cell_type": "code",
   "execution_count": null,
   "metadata": {
    "scrolled": true
   },
   "outputs": [],
   "source": [
    "def run_ols(X_train, Y_train, X_test, Y_test, alpha, plot_X_train, plot_X_test, description):\n",
    "    Y_LS_train, Y_LS_test = solve_ols(X_train, Y_train, X_test, alpha)\n",
    "    \n",
    "    fig, ax = plt.subplots(figsize=(12,12), dpi=50)\n",
    "    \n",
    "    # Plotting the train data\n",
    "    #ax.plot(X_train, Y_train, 'rx')\n",
    "    # Plotting the prediction of our model on the train data\n",
    "    #ax.plot(X_train, Y_LS_train, 'bo')\n",
    "\n",
    "    # Plotting the actual y values for the test data\n",
    "    ax.plot(plot_X_test, Y_test, 'rx', label='The actual y values for test data')\n",
    "    # Plotting the prediction of our model on the test data\n",
    "    ax.plot(plot_X_test, Y_LS_test, 'bo', label='The predicted y values for test data')\n",
    "    \n",
    "    ax.legend(loc='lower right', prop={'size': 20})\n",
    "    ax.set(xlabel='X', ylabel='Y', title=description)\n",
    "    ax.grid()\n",
    "    plt.show()\n",
    "    \n",
    "    print (\"Mean Squarred Error (MSE) of train data: \" , np.square(np.linalg.norm(Y_LS_train-Y_train))/Y_train.size)\n",
    "    print (\"Mean Squarred Error (MSE) of test data: \" , np.square(np.linalg.norm(Y_LS_test-Y_test))/Y_test.size)"
   ]
  },
  {
   "cell_type": "code",
   "execution_count": null,
   "metadata": {},
   "outputs": [],
   "source": [
    "# generate n data points based on a combination of sinosuidal and polynomial functions\n",
    "def generate_data(n):\n",
    "    X = np.random.rand(n, 1)*5\n",
    "    X = np.sort(X, axis=0)\n",
    "    Y = 10 + (X-0.1)*(X-0.1)*(X-0.1) - 5*(X-0.5)*(X-0.5) + 10*X + 5* np.sin(5*X)\n",
    "    # Adding noise\n",
    "    Y = Y + 0.1*np.random.randn(n,1)\n",
    "    return X, Y"
   ]
  },
  {
   "cell_type": "code",
   "execution_count": null,
   "metadata": {
    "scrolled": false
   },
   "outputs": [],
   "source": [
    "# Number of training and test points.\n",
    "n_train = 30\n",
    "n_test = 1000\n",
    "\n",
    "# This will be used later for regularization. For now it is set to 0.\n",
    "alpha = 0\n",
    "\n",
    "# Generating train and test data.\n",
    "X_train, Y_train = generate_data(n_train)\n",
    "X_test, Y_test = generate_data(n_test)\n",
    "\n",
    "# Homogenous line/hyperplane (goes through the origin)\n",
    "run_ols(X_train, Y_train, X_test, Y_test, alpha, X_train, X_test, \"Homogenous line\")\n",
    "\n",
    "# Non-homogenous line/hyperplane\n",
    "# First we augment the data with an all 1 column/feature\n",
    "X_augmented_train = np.concatenate((X_train, np.ones((n_train, 1))), axis=1)\n",
    "X_augmented_test = np.concatenate((X_test, np.ones((n_test, 1))), axis=1)\n",
    "\n",
    "# Now we run OLS on the augmented data.\n",
    "run_ols(X_augmented_train, Y_train, X_augmented_test, Y_test, alpha, X_train, X_test, \"Nonhomogenous line\")\n"
   ]
  },
  {
   "cell_type": "code",
   "execution_count": null,
   "metadata": {},
   "outputs": [],
   "source": []
  },
  {
   "cell_type": "code",
   "execution_count": null,
   "metadata": {},
   "outputs": [],
   "source": []
  }
 ],
 "metadata": {
  "kernelspec": {
   "display_name": "Python 3",
   "language": "python",
   "name": "python3"
  },
  "language_info": {
   "codemirror_mode": {
    "name": "ipython",
    "version": 3
   },
   "file_extension": ".py",
   "mimetype": "text/x-python",
   "name": "python",
   "nbconvert_exporter": "python",
   "pygments_lexer": "ipython3",
   "version": "3.8.5"
  }
 },
 "nbformat": 4,
 "nbformat_minor": 2
}
